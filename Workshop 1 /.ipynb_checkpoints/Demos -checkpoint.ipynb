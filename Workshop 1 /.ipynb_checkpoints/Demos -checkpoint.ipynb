{
 "cells": [
  {
   "cell_type": "code",
   "execution_count": 6,
   "metadata": {
    "collapsed": true
   },
   "outputs": [],
   "source": [
    "import numpy as np\n",
    "from datetime import datetime"
   ]
  },
  {
   "cell_type": "markdown",
   "metadata": {},
   "source": [
    "# Loop demo\n",
    "\n",
    "Shows just how slow Python loops are compared to implementing the same problem in one of the packages."
   ]
  },
  {
   "cell_type": "code",
   "execution_count": null,
   "metadata": {},
   "outputs": [],
   "source": [
    "# This version is using Python for loops\n",
    "testArray = np.zeros(shape=(10000, 10000))\n",
    "\n",
    "start = datetime.now()\n",
    "\n",
    "for i in range(len(testArray)):\n",
    "    for j in range(len(testArray[0])):\n",
    "        testArray[i][j] = 1\n",
    "\n",
    "end = datetime.now()\n",
    "\n",
    "print(end - start)"
   ]
  },
  {
   "cell_type": "code",
   "execution_count": 10,
   "metadata": {},
   "outputs": [
    {
     "name": "stdout",
     "output_type": "stream",
     "text": [
      "0:00:00.001312\n"
     ]
    }
   ],
   "source": [
    "# This version is using numpy \n",
    "testArray = np.zeros(shape=(10000, 10000))\n",
    "\n",
    "start = datetime.now()\n",
    "\n",
    "testArray[::] = 0\n",
    "\n",
    "end = datetime.now()\n",
    "\n",
    "print(end - start)"
   ]
  }
 ],
 "metadata": {
  "kernelspec": {
   "display_name": "Python 3",
   "language": "python",
   "name": "python3"
  },
  "language_info": {
   "codemirror_mode": {
    "name": "ipython",
    "version": 3
   },
   "file_extension": ".py",
   "mimetype": "text/x-python",
   "name": "python",
   "nbconvert_exporter": "python",
   "pygments_lexer": "ipython3",
   "version": "3.6.2"
  }
 },
 "nbformat": 4,
 "nbformat_minor": 2
}
