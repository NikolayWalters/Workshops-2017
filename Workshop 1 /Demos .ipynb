{
 "cells": [
  {
   "cell_type": "markdown",
   "metadata": {},
   "source": [
    "# Loop demo\n",
    "\n",
    "Shows just how slow Python loops are compared to implementing the same problem in one of the packages."
   ]
  },
  {
   "cell_type": "code",
   "execution_count": 20,
   "metadata": {},
   "outputs": [
    {
     "name": "stdout",
     "output_type": "stream",
     "text": [
      "0:00:03.786814\n"
     ]
    }
   ],
   "source": [
    "import numpy as np \n",
    "from datetime import datetime\n",
    "# This version is using Python for loops\n",
    "testArray = np.zeros(shape=(10000, 1000))\n",
    "\n",
    "start = datetime.now()\n",
    "\n",
    "for i in range(len(testArray)):\n",
    "    for j in range(len(testArray[0])):\n",
    "        testArray[i][j] = 1\n",
    "\n",
    "end = datetime.now()\n",
    "\n",
    "print(end - start)"
   ]
  },
  {
   "cell_type": "code",
   "execution_count": 21,
   "metadata": {},
   "outputs": [
    {
     "name": "stdout",
     "output_type": "stream",
     "text": [
      "0:00:00.029610\n"
     ]
    }
   ],
   "source": [
    "# This version is using numpy \n",
    "testArray = np.zeros(shape=(10000, 1000))\n",
    "\n",
    "start = datetime.now()\n",
    "\n",
    "testArray[::] = 0\n",
    "\n",
    "end = datetime.now()\n",
    "\n",
    "print(end - start)"
   ]
  },
  {
   "cell_type": "markdown",
   "metadata": {},
   "source": [
    "# Native Python Programming Questions\n",
    "## Prime Numbers up to k\n",
    "Write a function to return a list of primes up to k"
   ]
  },
  {
   "cell_type": "code",
   "execution_count": 35,
   "metadata": {},
   "outputs": [
    {
     "name": "stdout",
     "output_type": "stream",
     "text": [
      "False\n"
     ]
    }
   ],
   "source": [
    "def my_prime_generator(n):\n",
    "    # write your function here! \n",
    "    return \n",
    "\n",
    "\n",
    "n = 10000\n",
    "print(my_prime_generator(n) == rwh_primes(n))\n",
    "\n",
    "def rwh_primes(n):\n",
    "    '''\n",
    "    https://stackoverflow.com/questions/2068372/fastest-way-to-list-all-primes-below-n-in-python/3035188#3035188\n",
    "    Returns  a list of primes < n\n",
    "    '''\n",
    "    sieve = [True] * n\n",
    "    for i in range( 3, int(n**0.5)+1, 2):\n",
    "        if sieve[i]:\n",
    "            sieve[i*i::2*i]=[False]*((n-i*i-1)//(2*i)+1)\n",
    "    return [2] + [i for i in range(3,n,2) if sieve[i]]"
   ]
  }
 ],
 "metadata": {
  "kernelspec": {
   "display_name": "Python 3",
   "language": "python",
   "name": "python3"
  },
  "language_info": {
   "codemirror_mode": {
    "name": "ipython",
    "version": 3
   },
   "file_extension": ".py",
   "mimetype": "text/x-python",
   "name": "python",
   "nbconvert_exporter": "python",
   "pygments_lexer": "ipython3",
   "version": "3.6.2"
  }
 },
 "nbformat": 4,
 "nbformat_minor": 2
}
